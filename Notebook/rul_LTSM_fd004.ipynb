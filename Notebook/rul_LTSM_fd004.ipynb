{
  "nbformat": 4,
  "nbformat_minor": 0,
  "metadata": {
    "colab": {
      "provenance": [],
      "gpuType": "T4"
    },
    "kernelspec": {
      "name": "python3",
      "display_name": "Python 3"
    },
    "language_info": {
      "name": "python"
    },
    "accelerator": "GPU"
  },
  "cells": [
    {
      "cell_type": "code",
      "source": [
        "import os\n",
        "import numpy as np\n",
        "import pandas as pd\n",
        "import torch\n",
        "import torch.nn as nn\n",
        "from torch.utils.data import DataLoader, TensorDataset, random_split\n",
        "import torch.optim as optim\n",
        "from sklearn.preprocessing import StandardScaler\n",
        "from tqdm import tqdm\n",
        "\n",
        "device = torch.device(\"cuda\" if torch.cuda.is_available() else \"cpu\")\n",
        "print(f\"✅ Using device: {device}\")\n"
      ],
      "metadata": {
        "colab": {
          "base_uri": "https://localhost:8080/"
        },
        "id": "0ko_YWjRS-r9",
        "outputId": "a976893d-fc9e-4eb9-9553-36ba3ea1d830"
      },
      "execution_count": 1,
      "outputs": [
        {
          "output_type": "stream",
          "name": "stdout",
          "text": [
            "✅ Using device: cuda\n"
          ]
        }
      ]
    },
    {
      "cell_type": "code",
      "source": [
        "def load_and_preprocess_data():\n",
        "    # Define columns\n",
        "    cols = ['unit_number', 'time_in_cycles'] + \\\n",
        "           [f'op_setting_{i}' for i in range(1,4)] + \\\n",
        "           [f'sensor_{i}' for i in range(1,22)]\n",
        "\n",
        "    # Read and clean\n",
        "    train_df = pd.read_table('train_FD004.txt', sep='\\s+', header=None, names=cols)\n",
        "    train_df.dropna(axis=1, inplace=True)\n",
        "\n",
        "    # Compute RUL, clip at 125\n",
        "    train_df['RUL'] = train_df.groupby('unit_number')['time_in_cycles'].transform(\n",
        "        lambda x: (x.max() - x).clip(upper=125)\n",
        "    )\n",
        "\n",
        "    # Scale features\n",
        "    feature_cols = [col for col in train_df.columns if col not in ['unit_number', 'time_in_cycles', 'RUL']]\n",
        "    scaler = StandardScaler()\n",
        "    train_df[feature_cols] = scaler.fit_transform(train_df[feature_cols])\n",
        "\n",
        "    return train_df, scaler\n"
      ],
      "metadata": {
        "id": "pKRfumQgTDzn"
      },
      "execution_count": 2,
      "outputs": []
    },
    {
      "cell_type": "code",
      "source": [
        "def create_sliding_windows(df, window_size=30):\n",
        "    features = [col for col in df.columns if col not in ['unit_number', 'time_in_cycles', 'RUL']]\n",
        "    windows, targets = [], []\n",
        "\n",
        "    for unit in df['unit_number'].unique():\n",
        "        unit_data = df[df['unit_number'] == unit][features].values\n",
        "        unit_rul = df[df['unit_number'] == unit]['RUL'].values\n",
        "\n",
        "        for i in range(len(unit_data) - window_size + 1):\n",
        "            windows.append(unit_data[i:i+window_size])\n",
        "            targets.append(unit_rul[i+window_size-1])\n",
        "\n",
        "    return np.array(windows), np.array(targets)\n"
      ],
      "metadata": {
        "id": "P5Cmd0T_TGCI"
      },
      "execution_count": 3,
      "outputs": []
    },
    {
      "cell_type": "code",
      "source": [
        "class RULLSTM(nn.Module):\n",
        "    def __init__(self, input_size, hidden_size=64, num_layers=2):\n",
        "        super(RULLSTM, self).__init__()\n",
        "        self.lstm = nn.LSTM(input_size, hidden_size, num_layers, batch_first=True, dropout=0.2 if num_layers > 1 else 0)\n",
        "        self.regressor = nn.Sequential(\n",
        "            nn.Linear(hidden_size, 32),\n",
        "            nn.ReLU(),\n",
        "            nn.Linear(32, 1)\n",
        "        )\n",
        "\n",
        "    def forward(self, x):\n",
        "        out, _ = self.lstm(x)\n",
        "        out = out[:, -1, :]  # Use last time step\n",
        "        return self.regressor(out)\n"
      ],
      "metadata": {
        "id": "bajSaYaLTJb2"
      },
      "execution_count": 4,
      "outputs": []
    },
    {
      "cell_type": "code",
      "source": [
        "def train_model(train_loader, val_loader, input_size, num_epochs=30, patience=5, min_delta=0.01):\n",
        "    model = RULLSTM(input_size=input_size).to(device)\n",
        "    criterion = nn.MSELoss()\n",
        "    optimizer = optim.Adam(model.parameters(), lr=0.001)\n",
        "\n",
        "    # Initial validation loss\n",
        "    model.eval()\n",
        "    best_val_loss = 0\n",
        "    with torch.no_grad():\n",
        "        for xb, yb in val_loader:\n",
        "            xb, yb = xb.to(device), yb.to(device)\n",
        "            outputs = model(xb)\n",
        "            best_val_loss += criterion(outputs, yb).item()\n",
        "    best_val_loss /= len(val_loader)\n",
        "    best_model_state = model.state_dict().copy()\n",
        "\n",
        "    patience_counter = 0\n",
        "\n",
        "    for epoch in range(num_epochs):\n",
        "        model.train()\n",
        "        train_loss = 0\n",
        "        for xb, yb in tqdm(train_loader, desc=f'Epoch {epoch+1}/{num_epochs}'):\n",
        "            xb, yb = xb.to(device), yb.to(device)\n",
        "            optimizer.zero_grad()\n",
        "            outputs = model(xb)\n",
        "            loss = criterion(outputs, yb)\n",
        "            loss.backward()\n",
        "            optimizer.step()\n",
        "            train_loss += loss.item()\n",
        "\n",
        "        # Validation\n",
        "        model.eval()\n",
        "        val_loss = 0\n",
        "        with torch.no_grad():\n",
        "            for xb, yb in val_loader:\n",
        "                xb, yb = xb.to(device), yb.to(device)\n",
        "                outputs = model(xb)\n",
        "                val_loss += criterion(outputs, yb).item()\n",
        "        avg_val_loss = val_loss / len(val_loader)\n",
        "\n",
        "        # Early Stopping\n",
        "        if avg_val_loss < best_val_loss - min_delta:\n",
        "            best_val_loss = avg_val_loss\n",
        "            best_model_state = model.state_dict().copy()\n",
        "            patience_counter = 0\n",
        "            print(f\"💾 New best val loss: {best_val_loss:.4f}\")\n",
        "        else:\n",
        "            patience_counter += 1\n",
        "            print(f\"⏳ No improvement ({patience_counter}/{patience})\")\n",
        "            if patience_counter >= patience:\n",
        "                print(\"🛑 Early stopping triggered\")\n",
        "                break\n",
        "\n",
        "    # Restore best model\n",
        "    model.load_state_dict(best_model_state)\n",
        "    torch.save(model.state_dict(), 'best_lstm_model.pth')\n",
        "    print(f\"✅ Best model saved (val loss: {best_val_loss:.4f})\")\n",
        "\n",
        "    return model"
      ],
      "metadata": {
        "id": "mYh1HXrrTLM4"
      },
      "execution_count": 5,
      "outputs": []
    },
    {
      "cell_type": "code",
      "source": [
        "if __name__ == \"__main__\":\n",
        "    # Load and preprocess\n",
        "    train_df, scaler = load_and_preprocess_data()\n",
        "    X_windows, y_rul = create_sliding_windows(train_df, window_size=30)\n",
        "\n",
        "    # Tensorize\n",
        "    X_tensor = torch.FloatTensor(X_windows)\n",
        "    y_tensor = torch.FloatTensor(y_rul).unsqueeze(1)\n",
        "    dataset = TensorDataset(X_tensor, y_tensor)\n",
        "\n",
        "    # Train/Val split\n",
        "    val_size = int(0.2 * len(dataset))\n",
        "    train_size = len(dataset) - val_size\n",
        "    train_ds, val_ds = random_split(dataset, [train_size, val_size])\n",
        "\n",
        "    train_loader = DataLoader(train_ds, batch_size=128, shuffle=True)\n",
        "    val_loader = DataLoader(val_ds, batch_size=128)\n",
        "\n",
        "    # Train\n",
        "    model = train_model(train_loader, val_loader, input_size=X_windows.shape[2], num_epochs=30)\n",
        "    print(\"✅ Training complete\")\n"
      ],
      "metadata": {
        "colab": {
          "base_uri": "https://localhost:8080/"
        },
        "id": "0gWysYN4TNIq",
        "outputId": "e6dd5158-ed64-4d9e-d1ac-9443dec390dc"
      },
      "execution_count": 7,
      "outputs": [
        {
          "output_type": "stream",
          "name": "stderr",
          "text": [
            "Epoch 1/30: 100%|██████████| 338/338 [00:01<00:00, 266.94it/s]\n"
          ]
        },
        {
          "output_type": "stream",
          "name": "stdout",
          "text": [
            "💾 New best val loss: 1719.4778\n"
          ]
        },
        {
          "output_type": "stream",
          "name": "stderr",
          "text": [
            "Epoch 2/30: 100%|██████████| 338/338 [00:01<00:00, 268.62it/s]\n"
          ]
        },
        {
          "output_type": "stream",
          "name": "stdout",
          "text": [
            "⏳ No improvement (1/5)\n"
          ]
        },
        {
          "output_type": "stream",
          "name": "stderr",
          "text": [
            "Epoch 3/30: 100%|██████████| 338/338 [00:01<00:00, 257.58it/s]\n"
          ]
        },
        {
          "output_type": "stream",
          "name": "stdout",
          "text": [
            "⏳ No improvement (2/5)\n"
          ]
        },
        {
          "output_type": "stream",
          "name": "stderr",
          "text": [
            "Epoch 4/30: 100%|██████████| 338/338 [00:01<00:00, 248.57it/s]\n"
          ]
        },
        {
          "output_type": "stream",
          "name": "stdout",
          "text": [
            "💾 New best val loss: 1719.4302\n"
          ]
        },
        {
          "output_type": "stream",
          "name": "stderr",
          "text": [
            "Epoch 5/30: 100%|██████████| 338/338 [00:01<00:00, 192.89it/s]\n"
          ]
        },
        {
          "output_type": "stream",
          "name": "stdout",
          "text": [
            "⏳ No improvement (1/5)\n"
          ]
        },
        {
          "output_type": "stream",
          "name": "stderr",
          "text": [
            "Epoch 6/30: 100%|██████████| 338/338 [00:01<00:00, 265.57it/s]\n"
          ]
        },
        {
          "output_type": "stream",
          "name": "stdout",
          "text": [
            "⏳ No improvement (2/5)\n"
          ]
        },
        {
          "output_type": "stream",
          "name": "stderr",
          "text": [
            "Epoch 7/30: 100%|██████████| 338/338 [00:01<00:00, 260.97it/s]\n"
          ]
        },
        {
          "output_type": "stream",
          "name": "stdout",
          "text": [
            "💾 New best val loss: 544.7637\n"
          ]
        },
        {
          "output_type": "stream",
          "name": "stderr",
          "text": [
            "Epoch 8/30: 100%|██████████| 338/338 [00:01<00:00, 260.46it/s]\n"
          ]
        },
        {
          "output_type": "stream",
          "name": "stdout",
          "text": [
            "💾 New best val loss: 381.4365\n"
          ]
        },
        {
          "output_type": "stream",
          "name": "stderr",
          "text": [
            "Epoch 9/30: 100%|██████████| 338/338 [00:01<00:00, 266.04it/s]\n"
          ]
        },
        {
          "output_type": "stream",
          "name": "stdout",
          "text": [
            "💾 New best val loss: 349.4207\n"
          ]
        },
        {
          "output_type": "stream",
          "name": "stderr",
          "text": [
            "Epoch 10/30: 100%|██████████| 338/338 [00:01<00:00, 263.88it/s]\n"
          ]
        },
        {
          "output_type": "stream",
          "name": "stdout",
          "text": [
            "💾 New best val loss: 318.0834\n"
          ]
        },
        {
          "output_type": "stream",
          "name": "stderr",
          "text": [
            "Epoch 11/30: 100%|██████████| 338/338 [00:01<00:00, 264.53it/s]\n"
          ]
        },
        {
          "output_type": "stream",
          "name": "stdout",
          "text": [
            "⏳ No improvement (1/5)\n"
          ]
        },
        {
          "output_type": "stream",
          "name": "stderr",
          "text": [
            "Epoch 12/30: 100%|██████████| 338/338 [00:01<00:00, 239.36it/s]\n"
          ]
        },
        {
          "output_type": "stream",
          "name": "stdout",
          "text": [
            "💾 New best val loss: 291.2823\n"
          ]
        },
        {
          "output_type": "stream",
          "name": "stderr",
          "text": [
            "Epoch 13/30: 100%|██████████| 338/338 [00:01<00:00, 192.41it/s]\n"
          ]
        },
        {
          "output_type": "stream",
          "name": "stdout",
          "text": [
            "💾 New best val loss: 271.0882\n"
          ]
        },
        {
          "output_type": "stream",
          "name": "stderr",
          "text": [
            "Epoch 14/30: 100%|██████████| 338/338 [00:01<00:00, 266.69it/s]\n"
          ]
        },
        {
          "output_type": "stream",
          "name": "stdout",
          "text": [
            "💾 New best val loss: 260.5498\n"
          ]
        },
        {
          "output_type": "stream",
          "name": "stderr",
          "text": [
            "Epoch 15/30: 100%|██████████| 338/338 [00:01<00:00, 257.50it/s]\n"
          ]
        },
        {
          "output_type": "stream",
          "name": "stdout",
          "text": [
            "⏳ No improvement (1/5)\n"
          ]
        },
        {
          "output_type": "stream",
          "name": "stderr",
          "text": [
            "Epoch 16/30: 100%|██████████| 338/338 [00:01<00:00, 267.55it/s]\n"
          ]
        },
        {
          "output_type": "stream",
          "name": "stdout",
          "text": [
            "💾 New best val loss: 238.7243\n"
          ]
        },
        {
          "output_type": "stream",
          "name": "stderr",
          "text": [
            "Epoch 17/30: 100%|██████████| 338/338 [00:01<00:00, 262.63it/s]\n"
          ]
        },
        {
          "output_type": "stream",
          "name": "stdout",
          "text": [
            "💾 New best val loss: 231.5602\n"
          ]
        },
        {
          "output_type": "stream",
          "name": "stderr",
          "text": [
            "Epoch 18/30: 100%|██████████| 338/338 [00:01<00:00, 263.21it/s]\n"
          ]
        },
        {
          "output_type": "stream",
          "name": "stdout",
          "text": [
            "💾 New best val loss: 228.3764\n"
          ]
        },
        {
          "output_type": "stream",
          "name": "stderr",
          "text": [
            "Epoch 19/30: 100%|██████████| 338/338 [00:01<00:00, 263.75it/s]\n"
          ]
        },
        {
          "output_type": "stream",
          "name": "stdout",
          "text": [
            "💾 New best val loss: 210.3095\n"
          ]
        },
        {
          "output_type": "stream",
          "name": "stderr",
          "text": [
            "Epoch 20/30: 100%|██████████| 338/338 [00:01<00:00, 243.95it/s]\n"
          ]
        },
        {
          "output_type": "stream",
          "name": "stdout",
          "text": [
            "💾 New best val loss: 200.1740\n"
          ]
        },
        {
          "output_type": "stream",
          "name": "stderr",
          "text": [
            "Epoch 21/30: 100%|██████████| 338/338 [00:01<00:00, 195.47it/s]\n"
          ]
        },
        {
          "output_type": "stream",
          "name": "stdout",
          "text": [
            "💾 New best val loss: 177.5004\n"
          ]
        },
        {
          "output_type": "stream",
          "name": "stderr",
          "text": [
            "Epoch 22/30: 100%|██████████| 338/338 [00:01<00:00, 265.43it/s]\n"
          ]
        },
        {
          "output_type": "stream",
          "name": "stdout",
          "text": [
            "💾 New best val loss: 168.2988\n"
          ]
        },
        {
          "output_type": "stream",
          "name": "stderr",
          "text": [
            "Epoch 23/30: 100%|██████████| 338/338 [00:01<00:00, 262.64it/s]\n"
          ]
        },
        {
          "output_type": "stream",
          "name": "stdout",
          "text": [
            "⏳ No improvement (1/5)\n"
          ]
        },
        {
          "output_type": "stream",
          "name": "stderr",
          "text": [
            "Epoch 24/30: 100%|██████████| 338/338 [00:01<00:00, 267.48it/s]\n"
          ]
        },
        {
          "output_type": "stream",
          "name": "stdout",
          "text": [
            "💾 New best val loss: 141.7407\n"
          ]
        },
        {
          "output_type": "stream",
          "name": "stderr",
          "text": [
            "Epoch 25/30: 100%|██████████| 338/338 [00:01<00:00, 271.30it/s]\n"
          ]
        },
        {
          "output_type": "stream",
          "name": "stdout",
          "text": [
            "💾 New best val loss: 131.5238\n"
          ]
        },
        {
          "output_type": "stream",
          "name": "stderr",
          "text": [
            "Epoch 26/30: 100%|██████████| 338/338 [00:01<00:00, 273.23it/s]\n"
          ]
        },
        {
          "output_type": "stream",
          "name": "stdout",
          "text": [
            "⏳ No improvement (1/5)\n"
          ]
        },
        {
          "output_type": "stream",
          "name": "stderr",
          "text": [
            "Epoch 27/30: 100%|██████████| 338/338 [00:01<00:00, 266.19it/s]\n"
          ]
        },
        {
          "output_type": "stream",
          "name": "stdout",
          "text": [
            "💾 New best val loss: 120.4107\n"
          ]
        },
        {
          "output_type": "stream",
          "name": "stderr",
          "text": [
            "Epoch 28/30: 100%|██████████| 338/338 [00:01<00:00, 255.21it/s]\n"
          ]
        },
        {
          "output_type": "stream",
          "name": "stdout",
          "text": [
            "💾 New best val loss: 100.7466\n"
          ]
        },
        {
          "output_type": "stream",
          "name": "stderr",
          "text": [
            "Epoch 29/30: 100%|██████████| 338/338 [00:01<00:00, 188.50it/s]\n"
          ]
        },
        {
          "output_type": "stream",
          "name": "stdout",
          "text": [
            "⏳ No improvement (1/5)\n"
          ]
        },
        {
          "output_type": "stream",
          "name": "stderr",
          "text": [
            "Epoch 30/30: 100%|██████████| 338/338 [00:01<00:00, 264.56it/s]\n"
          ]
        },
        {
          "output_type": "stream",
          "name": "stdout",
          "text": [
            "💾 New best val loss: 89.1597\n",
            "✅ Best model saved (val loss: 89.1597)\n",
            "✅ Training complete\n"
          ]
        }
      ]
    },
    {
      "cell_type": "code",
      "source": [
        "def load_test_data():\n",
        "    # Load test data\n",
        "    cols = ['unit_number', 'time_in_cycles'] + \\\n",
        "           [f'op_setting_{i}' for i in range(1,4)] + \\\n",
        "           [f'sensor_{i}' for i in range(1,22)]\n",
        "\n",
        "    test_df = pd.read_table('test_FD004.txt', sep='\\s+', header=None, names=cols)\n",
        "    test_df.dropna(axis=1, inplace=True)\n",
        "\n",
        "    # Load true RULs\n",
        "    true_rul = pd.read_csv('RUL_FD004.txt', sep='\\s+', header=None)[0].values\n",
        "    return test_df, true_rul\n"
      ],
      "metadata": {
        "id": "jhMnfjjWTPkD"
      },
      "execution_count": 8,
      "outputs": []
    },
    {
      "cell_type": "code",
      "source": [
        "def prepare_test_windows(test_df, scaler, window_size=30):\n",
        "    features = [col for col in test_df.columns if col not in ['unit_number', 'time_in_cycles']]\n",
        "\n",
        "    # Scale features\n",
        "    test_df[features] = scaler.transform(test_df[features])\n",
        "\n",
        "    X_test = []\n",
        "    unit_ids = []\n",
        "\n",
        "    for unit in test_df['unit_number'].unique():\n",
        "        unit_data = test_df[test_df['unit_number'] == unit][features].values\n",
        "        if len(unit_data) >= window_size:\n",
        "            window = unit_data[-window_size:]  # last 30 cycles\n",
        "        else:\n",
        "            # Pad with zeros if less than window size\n",
        "            pad = np.zeros((window_size - len(unit_data), len(features)))\n",
        "            window = np.vstack((pad, unit_data))\n",
        "\n",
        "        X_test.append(window)\n",
        "        unit_ids.append(unit)\n",
        "\n",
        "    return np.array(X_test), unit_ids\n"
      ],
      "metadata": {
        "id": "uz0T_5CKaCP4"
      },
      "execution_count": 9,
      "outputs": []
    },
    {
      "cell_type": "code",
      "source": [
        "import numpy as np\n",
        "import pandas as pd\n",
        "import torch\n",
        "import matplotlib.pyplot as plt\n",
        "from sklearn.metrics import r2_score\n",
        "\n",
        "def evaluate_test_set(model, scaler, window_size=30):\n",
        "    # 1. Load test data\n",
        "    test_df, true_rul = load_test_data()\n",
        "\n",
        "    # 2. Prepare test windows (last 30 cycles per engine)\n",
        "    X_test, unit_ids = prepare_test_windows(test_df, scaler, window_size)\n",
        "\n",
        "    # 3. Convert to tensor and predict\n",
        "    X_test_tensor = torch.FloatTensor(X_test).to(device)\n",
        "    model.eval()\n",
        "    with torch.no_grad():\n",
        "        predictions = model(X_test_tensor).cpu().numpy().flatten()\n",
        "\n",
        "    # 4. Clip predictions (0-125) and calculate metrics\n",
        "    predictions = np.clip(predictions, 0, 125)\n",
        "\n",
        "    # 5. Calculate metrics\n",
        "    mae = np.mean(np.abs(predictions - true_rul))\n",
        "    rmse = np.sqrt(np.mean((predictions - true_rul)**2))\n",
        "    r2 = r2_score(true_rul, predictions)\n",
        "\n",
        "    # 6. Print results\n",
        "    print(f\"\\n📊 Test Set Evaluation Results:\")\n",
        "    print(f\"MAE: {mae:.2f} cycles\")\n",
        "    print(f\"RMSE: {rmse:.2f} cycles\")\n",
        "    print(f\"R² Score: {r2:.4f}\")\n",
        "\n",
        "    # 7. Plot predictions vs true RUL\n",
        "    plt.figure(figsize=(10, 6))\n",
        "    plt.scatter(true_rul, predictions, alpha=0.6)\n",
        "    plt.plot([0, 125], [0, 125], 'r--')\n",
        "    plt.xlabel('True RUL (cycles)')\n",
        "    plt.ylabel('Predicted RUL (cycles)')\n",
        "    plt.title('Predicted vs True RUL (Test Set)')\n",
        "    plt.grid(True)\n",
        "    plt.show()\n",
        "\n",
        "    return predictions\n",
        "\n",
        "# Usage:\n",
        "# 1. Load your best saved model\n",
        "model = RULLSTM(input_size=X_windows.shape[2]).to(device)\n",
        "model.load_state_dict(torch.load('best_lstm_model.pth'))\n",
        "print(\"✅ Model loaded successfully\")\n",
        "\n",
        "# 2. Run evaluation\n",
        "test_predictions = evaluate_test_set(model, scaler)"
      ],
      "metadata": {
        "colab": {
          "base_uri": "https://localhost:8080/",
          "height": 668
        },
        "id": "5TrennyBaYuI",
        "outputId": "666a959d-44af-4cdb-fd7a-989b28a3046e"
      },
      "execution_count": 10,
      "outputs": [
        {
          "output_type": "stream",
          "name": "stdout",
          "text": [
            "✅ Model loaded successfully\n",
            "\n",
            "📊 Test Set Evaluation Results:\n",
            "MAE: 23.17 cycles\n",
            "RMSE: 31.88 cycles\n",
            "R² Score: 0.6581\n"
          ]
        },
        {
          "output_type": "display_data",
          "data": {
            "text/plain": [
              "<Figure size 1000x600 with 1 Axes>"
            ],
            "image/png": "[encoded data removed]"
          },
          "metadata": {}
        }
      ]
    },
    {
      "cell_type": "code",
      "source": [],
      "metadata": {
        "id": "94b8JcGYaZOl"
      },
      "execution_count": null,
      "outputs": []
    }
  ]
}